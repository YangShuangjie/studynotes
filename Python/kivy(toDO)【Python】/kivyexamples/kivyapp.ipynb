{
 "cells": [
  {
   "cell_type": "code",
   "execution_count": 2,
   "metadata": {
    "collapsed": true
   },
   "outputs": [
    {
     "name": "stderr",
     "output_type": "stream",
     "text": [
      "[INFO   ] [Logger      ] Record log in C:\\Users\\win10\\.kivy\\logs\\kivy_18-05-20_2.txt\n",
      "[INFO   ] [Kivy        ] v1.10.0\n",
      "[INFO   ] [Python      ] v3.6.4 |Anaconda, Inc.| (default, Jan 16 2018, 10:22:32) [MSC v.1900 64 bit (AMD64)]\n",
      "[INFO   ] [Factory     ] 194 symbols loaded\n",
      "[INFO   ] [Image       ] Providers: img_tex, img_dds, img_sdl2, img_pil, img_gif (img_ffpyplayer ignored)\n",
      "[INFO   ] [Text        ] Provider: sdl2\n",
      "[INFO   ] [OSC         ] using <thread> for socket\n",
      "[INFO   ] [Window      ] Provider: sdl2\n",
      "[INFO   ] [GL          ] Using the \"OpenGL\" graphics system\n",
      "[INFO   ] [GL          ] GLEW initialization succeeded\n",
      "[INFO   ] [GL          ] Backend used <glew>\n",
      "[INFO   ] [GL          ] OpenGL version <b'4.4.0 - Build 20.19.15.4463'>\n",
      "[INFO   ] [GL          ] OpenGL vendor <b'Intel'>\n",
      "[INFO   ] [GL          ] OpenGL renderer <b'Intel(R) HD Graphics 530'>\n",
      "[INFO   ] [GL          ] OpenGL parsed version: 4, 4\n",
      "[INFO   ] [GL          ] Shading version <b'4.40 - Build 20.19.15.4463'>\n",
      "[INFO   ] [GL          ] Texture max size <16384>\n",
      "[INFO   ] [GL          ] Texture max units <32>\n",
      "[INFO   ] [Shader      ] fragment shader: <b\"WARNING: 0:7: '' :  #version directive missing\">\n",
      "[INFO   ] [Shader      ] vertex shader: <b\"WARNING: 0:7: '' :  #version directive missing\">\n",
      "[INFO   ] [Window      ] auto add sdl2 input provider\n",
      "[INFO   ] [Window      ] virtual keyboard not allowed, single mode, not docked\n",
      "[INFO   ] [Base        ] Start application main loop\n",
      "[INFO   ] [GL          ] NPOT texture support is available\n",
      "[INFO   ] [Base        ] Leaving application in progress...\n"
     ]
    }
   ],
   "source": [
    "import kivy\n",
    "kivy.require(\"1.10.0\")\n",
    "\n",
    "from kivy.app import App\n",
    "from kivy.uix.label import Label #\"kivy.uix\"这个包的作用是容纳用户界面元素\n",
    "class MyApp(App): #自定义的类要继承这个App类,这个类的位置在kivy安装目录下的kivy目录下的app.py文件中。\n",
    "    def __init__(self,**kwargs):\n",
    "        pass\n",
    "    def build(self):\n",
    "        return Label(text='Hello World') #返回根控件\n",
    "# if __name__ == '__main__':\n",
    "MyApp().run()\n",
    "\n",
    "#保存为main运行-CMD\n",
    "# python/kivy main.py"
   ]
  },
  {
   "cell_type": "code",
   "execution_count": 1,
   "metadata": {},
   "outputs": [
    {
     "name": "stderr",
     "output_type": "stream",
     "text": [
      "[INFO   ] [Logger      ] Record log in C:\\Users\\win10\\.kivy\\logs\\kivy_18-05-20_5.txt\n",
      "[INFO   ] [Kivy        ] v1.10.0\n",
      "[INFO   ] [Python      ] v3.6.4 |Anaconda, Inc.| (default, Jan 16 2018, 10:22:32) [MSC v.1900 64 bit (AMD64)]\n",
      "[INFO   ] [Factory     ] 194 symbols loaded\n",
      "[INFO   ] [Image       ] Providers: img_tex, img_dds, img_sdl2, img_pil, img_gif (img_ffpyplayer ignored)\n",
      "[INFO   ] [Text        ] Provider: pil(['text_sdl2'] ignored)\n",
      "[INFO   ] [OSC         ] using <thread> for socket\n",
      "[INFO   ] [Window      ] Provider: sdl2\n",
      "[INFO   ] [GL          ] Using the \"OpenGL\" graphics system\n",
      "[INFO   ] [GL          ] GLEW initialization succeeded\n",
      "[INFO   ] [GL          ] Backend used <glew>\n",
      "[INFO   ] [GL          ] OpenGL version <b'4.4.0 - Build 20.19.15.4463'>\n",
      "[INFO   ] [GL          ] OpenGL vendor <b'Intel'>\n",
      "[INFO   ] [GL          ] OpenGL renderer <b'Intel(R) HD Graphics 530'>\n",
      "[INFO   ] [GL          ] OpenGL parsed version: 4, 4\n",
      "[INFO   ] [GL          ] Shading version <b'4.40 - Build 20.19.15.4463'>\n",
      "[INFO   ] [GL          ] Texture max size <16384>\n",
      "[INFO   ] [GL          ] Texture max units <32>\n",
      "[INFO   ] [Shader      ] fragment shader: <b\"WARNING: 0:7: '' :  #version directive missing\">\n",
      "[INFO   ] [Shader      ] vertex shader: <b\"WARNING: 0:7: '' :  #version directive missing\">\n",
      "[INFO   ] [Window      ] auto add sdl2 input provider\n",
      "[INFO   ] [Window      ] virtual keyboard not allowed, single mode, not docked\n",
      "[INFO   ] [Base        ] Start application main loop\n",
      "[INFO   ] [GL          ] NPOT texture support is available\n",
      "[INFO   ] [Base        ] Leaving application in progress...\n",
      "[INFO   ] [Base        ] Start application main loop\n",
      "[ERROR  ] [Base        ] No event listeners have been created\n",
      "[ERROR  ] [Base        ] Application will leave\n",
      "[INFO   ] [Base        ] Start application main loop\n",
      "[ERROR  ] [Base        ] No event listeners have been created\n",
      "[ERROR  ] [Base        ] Application will leave\n",
      "[INFO   ] [Base        ] Start application main loop\n",
      "[ERROR  ] [Base        ] No event listeners have been created\n",
      "[ERROR  ] [Base        ] Application will leave\n",
      "[INFO   ] [Base        ] Start application main loop\n",
      "[ERROR  ] [Base        ] No event listeners have been created\n",
      "[ERROR  ] [Base        ] Application will leave\n"
     ]
    }
   ],
   "source": [
    "# 环境变量的修改设定都需要在导入Kivy之前进行\n",
    "# 如若要严格设定用PIL进行文本渲染,则应该\n",
    "# import os\n",
    "# os.environ['KIVY_TEXT'] = 'pil'\n",
    "# import kivy\n",
    "\n",
    "from kivy.app import App\n",
    "from kivy.uix.gridlayout import GridLayout\n",
    "from kivy.uix.label import Label\n",
    "from kivy.uix.textinput import TextInput\n",
    "class LoginScreen(GridLayout): #利用GridLayout管理子控件\n",
    "    def __init__(self,**kwargs):\n",
    "        #要注意这里要加super，才能把现有的新初始化方法覆盖掉继承来的旧初始化方法。\n",
    "        #另外也要注意，这里调用super的时候没有省略掉**kwargs，这是一种好习惯。\n",
    "        super(LoginScreen,self).__init__(**kwargs)\n",
    "        self.cols=2 #把子控件设置为两栏\n",
    "        self.add_widget(Label(text='user name'))\n",
    "        self.username = TextInput(multiline=False)\n",
    "        self.add_widget(self.username)\n",
    "        self.add_widget(Label(text='password')) \n",
    "        self.password = TextInput(password=True,multiline=False)    \n",
    "        self.add_widget(self.password)\n",
    "class MyApp(App):\n",
    "    \n",
    "    def build(self):\n",
    "        return LoginScreen()\n",
    "# if __name__ == '__main__':\n",
    "#     MyApp().run()\n",
    "MyApp().run()"
   ]
  },
  {
   "cell_type": "code",
   "execution_count": 4,
   "metadata": {},
   "outputs": [],
   "source": [
    "from kivy.app import App\n",
    "from kivy.uix.widget import Widget\n",
    "from kivy.uix.button import Button\n",
    "from kivy.uix.boxlayout import BoxLayout\n",
    "from kivy.properties import ListProperty\n",
    "from kivy.properties import StringProperty\n",
    "\n",
    "class RootWidget(BoxLayout):\n",
    "    def __init__(self,**kwargs):\n",
    "        super(RootWidget,self).__init__(**kwargs)\n",
    "        self.add_widget(Button(text='btn1'))\n",
    "        cus_btn = CustomButton()\n",
    "        cus_btn.bind(pressed=self.btn_pressed)\n",
    "#         cus_btn.bind(btn_name) #错的,想加一个标签？\n",
    "        self.add_widget(cus_btn)\n",
    "        self.add_widget(Button(text='btn3'))\n",
    "    def btn_pressed(self,instance,pos):\n",
    "        print('pos:printed from root widget:{pos}'.format(pos=pos))\n",
    "class CustomButton(Widget):\n",
    "    pressed = ListProperty([0,0])\n",
    "#     btn_name = StringProperty('btn2')\n",
    "    def on_touch_down(self,touch):\n",
    "        if self.collide_point(*touch.pos):\n",
    "            self.pressed = touch.pos\n",
    "            return True\n",
    "        return super(CustomButton,self).on_touch_down(touch)\n",
    "    def on_pressed(self,instance,pos):\n",
    "        print('pressed at {pos}'.format(pos=pos))\n",
    "class TestApp(App):\n",
    "    def build(self):\n",
    "        return RootWidget()\n",
    "# if __name__ == '__main__':\n",
    "#     TestApp().run()\n",
    "TestApp().run()"
   ]
  },
  {
   "cell_type": "code",
   "execution_count": 13,
   "metadata": {},
   "outputs": [],
   "source": [
    "# Terminal:\n",
    "# cd \"F:\\Anaconda3\\share\\kivy-examples\\demo\\kivycatalog\"\n",
    "# python main.py"
   ]
  },
  {
   "cell_type": "code",
   "execution_count": null,
   "metadata": {},
   "outputs": [],
   "source": []
  }
 ],
 "metadata": {
  "kernelspec": {
   "display_name": "Python 3",
   "language": "python",
   "name": "python3"
  },
  "language_info": {
   "codemirror_mode": {
    "name": "ipython",
    "version": 3
   },
   "file_extension": ".py",
   "mimetype": "text/x-python",
   "name": "python",
   "nbconvert_exporter": "python",
   "pygments_lexer": "ipython3",
   "version": "3.6.4"
  },
  "nbTranslate": {
   "displayLangs": [
    "*"
   ],
   "hotkey": "alt-t",
   "langInMainMenu": true,
   "sourceLang": "en",
   "targetLang": "fr",
   "useGoogleTranslate": true
  },
  "toc": {
   "base_numbering": 1,
   "nav_menu": {},
   "number_sections": true,
   "sideBar": true,
   "skip_h1_title": false,
   "title_cell": "Table of Contents",
   "title_sidebar": "Contents",
   "toc_cell": false,
   "toc_position": {},
   "toc_section_display": true,
   "toc_window_display": false
  },
  "varInspector": {
   "cols": {
    "lenName": 16,
    "lenType": 16,
    "lenVar": 40
   },
   "kernels_config": {
    "python": {
     "delete_cmd_postfix": "",
     "delete_cmd_prefix": "del ",
     "library": "var_list.py",
     "varRefreshCmd": "print(var_dic_list())"
    },
    "r": {
     "delete_cmd_postfix": ") ",
     "delete_cmd_prefix": "rm(",
     "library": "var_list.r",
     "varRefreshCmd": "cat(var_dic_list()) "
    }
   },
   "types_to_exclude": [
    "module",
    "function",
    "builtin_function_or_method",
    "instance",
    "_Feature"
   ],
   "window_display": false
  }
 },
 "nbformat": 4,
 "nbformat_minor": 2
}
