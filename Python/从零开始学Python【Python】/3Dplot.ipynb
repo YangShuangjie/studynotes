{
 "cells": [
  {
   "cell_type": "code",
   "execution_count": null,
   "metadata": {
    "lang": "en"
   },
   "outputs": [],
   "source": [
    "#TVTK-------------- \n",
    "from tvtk.api import tvtk\n",
    "from scpy2.tvtk.tvtkhelp import ivtk_scene,event_loop\n",
    "cs = tvtk.ConeSource(height=3.0,radius=1.0,resolution=36)\n",
    "mapper = tvtk.PolyDataMapper(input_connection=cs.output_port)\n",
    "a = tvtk.Actor(mapper = mapper)\n",
    "# window = ivtk_scene([a])\n",
    "# event_loop()\n",
    "ren = tvtk.Renderer(background=(1,1,1))\n",
    "ren.add_actor(a)\n",
    "window = tvtk.RenderWindow(size=(300,300))\n",
    "window.add_renderer(ren)\n",
    "interact = tvtk.RenderWindowInteractor(render_window=window)\n",
    "interact.initialize()\n",
    "interact.start()"
   ]
  },
  {
   "cell_type": "code",
   "execution_count": 2,
   "metadata": {},
   "outputs": [],
   "source": [
    "#=====================mayavi=======================\n",
    "import numpy as np\n",
    "from scipy.integrate import odeint\n",
    "from mayavi import mlab"
   ]
  },
  {
   "cell_type": "code",
   "execution_count": 4,
   "metadata": {},
   "outputs": [],
   "source": [
    "# from scpy2.tvtk.fix_mayavi_bugs import fix_mayavi_bugs\n",
    "# fix_mayavi_bugs()\n",
    "def lorenz(w,t,p,r,b):\n",
    "    x,y,z=w\n",
    "    return np.array([p*(y-x),x*(r-z)-y,x*y-b*z])\n",
    "t = np.arange(0,30,0.01)\n",
    "track1 = odeint(lorenz,(0.0,1.0,0.0),t,args=(10.0,28.0,3.0))\n",
    "X,Y,Z=track1.T\n",
    "mlab.plot3d(X,Y,Z,t,tube_radius=0.2)\n",
    "mlab.show()"
   ]
  },
  {
   "cell_type": "code",
   "execution_count": 3,
   "metadata": {
    "collapsed": true
   },
   "outputs": [
    {
     "name": "stderr",
     "output_type": "stream",
     "text": [
      "E:\\Anaconda\\lib\\site-packages\\tvtk\\array_handler.py:268: FutureWarning: Conversion of the second argument of issubdtype from `complex` to `np.complexfloating` is deprecated. In future, it will be treated as `np.complex128 == np.dtype(complex).type`.\n",
      "  assert not numpy.issubdtype(z.dtype, complex), \\\n",
      "Exception occurred in traits notification handler for object: <mayavi.sources.array_source.ArraySource object at 0x0000001A29B640F8>, trait: scalar_data, old value: None, new value: [[-0.00067093 -0.00148987 -0.00302777 -0.00563122 -0.00958484 -0.01493034\n",
      "  -0.02128422 -0.02776827 -0.03315453 -0.03622763 -0.03622763 -0.03315453\n",
      "  -0.02776827 -0.02128422 -0.01493034 -0.00958484 -0.00563122 -0.00302777\n",
      "  -0.00148987 -0.00067093]\n",
      " [-0.00133304 -0.00296016 -0.00601578 -0.01118848 -0.01904378 -0.02966458\n",
      "  -0.04228889 -0.05517183 -0.0658736  -0.07197943 -0.07197943 -0.0658736\n",
      "  -0.05517183 -0.04228889 -0.02966458 -0.01904378 -0.01118848 -0.00601578\n",
      "  -0.00296016 -0.00133304]\n",
      " [-0.00239035 -0.00530804 -0.01078724 -0.02006271 -0.0341485  -0.05319327\n",
      "  -0.07583065 -0.09893179 -0.11812175 -0.12907047 -0.12907047 -0.11812175\n",
      "  -0.09893179 -0.07583065 -0.05319327 -0.0341485  -0.02006271 -0.01078724\n",
      "  -0.00530804 -0.00239035]\n",
      " [-0.00385294 -0.0085559  -0.01738768 -0.03233857 -0.0550431  -0.08574088\n",
      "  -0.12222949 -0.15946562 -0.19039744 -0.2080454  -0.2080454  -0.19039744\n",
      "  -0.15946562 -0.12222949 -0.08574088 -0.0550431  -0.03233857 -0.01738768\n",
      "  -0.0085559  -0.00385294]\n",
      " [-0.00554912 -0.01232245 -0.02504223 -0.04657493 -0.07927464 -0.12348647\n",
      "  -0.17603842 -0.22966695 -0.27421584 -0.29963294 -0.29963294 -0.27421584\n",
      "  -0.22966695 -0.17603842 -0.12348647 -0.07927464 -0.04657493 -0.02504223\n",
      "  -0.01232245 -0.00554912]\n",
      " [-0.00707227 -0.01570478 -0.03191596 -0.05935907 -0.10103439 -0.15738172\n",
      "  -0.22435842 -0.29270721 -0.34948413 -0.38187785 -0.38187785 -0.34948413\n",
      "  -0.29270721 -0.22435842 -0.15738172 -0.10103439 -0.05935907 -0.03191596\n",
      "  -0.01570478 -0.00707227]\n",
      " [-0.00784156 -0.01741307 -0.03538764 -0.06581588 -0.11202445 -0.17450099\n",
      "  -0.2487631  -0.32454657 -0.38749942 -0.42341679 -0.42341679 -0.38749942\n",
      "  -0.32454657 -0.2487631  -0.17450099 -0.11202445 -0.06581588 -0.03538764\n",
      "  -0.01741307 -0.00784156]\n",
      " [-0.00730744 -0.01622701 -0.03297726 -0.06133293 -0.10439407 -0.16261512\n",
      "  -0.23181898 -0.30244056 -0.36110548 -0.39457639 -0.39457639 -0.36110548\n",
      "  -0.30244056 -0.23181898 -0.16261512 -0.10439407 -0.06133293 -0.03297726\n",
      "  -0.01622701 -0.00730744]\n",
      " [-0.00523493 -0.01162475 -0.02362435 -0.04393787 -0.07478614 -0.11649471\n",
      "  -0.16607118 -0.21666329 -0.25868983 -0.28266782 -0.28266782 -0.25868983\n",
      "  -0.21666329 -0.16607118 -0.11649471 -0.07478614 -0.04393787 -0.02362435\n",
      "  -0.01162475 -0.00523493]\n",
      " [-0.00190672 -0.00423408 -0.0086047  -0.01600349 -0.02723936 -0.04243087\n",
      "  -0.06048811 -0.07891528 -0.09422261 -0.10295611 -0.10295611 -0.09422261\n",
      "  -0.07891528 -0.06048811 -0.04243087 -0.02723936 -0.01600349 -0.0086047\n",
      "  -0.00423408 -0.00190672]\n",
      " [ 0.00190672  0.00423408  0.0086047   0.01600349  0.02723936  0.04243087\n",
      "   0.06048811  0.07891528  0.09422261  0.10295611  0.10295611  0.09422261\n",
      "   0.07891528  0.06048811  0.04243087  0.02723936  0.01600349  0.0086047\n",
      "   0.00423408  0.00190672]\n",
      " [ 0.00523493  0.01162475  0.02362435  0.04393787  0.07478614  0.11649471\n",
      "   0.16607118  0.21666329  0.25868983  0.28266782  0.28266782  0.25868983\n",
      "   0.21666329  0.16607118  0.11649471  0.07478614  0.04393787  0.02362435\n",
      "   0.01162475  0.00523493]\n",
      " [ 0.00730744  0.01622701  0.03297726  0.06133293  0.10439407  0.16261512\n",
      "   0.23181898  0.30244056  0.36110548  0.39457639  0.39457639  0.36110548\n",
      "   0.30244056  0.23181898  0.16261512  0.10439407  0.06133293  0.03297726\n",
      "   0.01622701  0.00730744]\n",
      " [ 0.00784156  0.01741307  0.03538764  0.06581588  0.11202445  0.17450099\n",
      "   0.2487631   0.32454657  0.38749942  0.42341679  0.42341679  0.38749942\n",
      "   0.32454657  0.2487631   0.17450099  0.11202445  0.06581588  0.03538764\n",
      "   0.01741307  0.00784156]\n",
      " [ 0.00707227  0.01570478  0.03191596  0.05935907  0.10103439  0.15738172\n",
      "   0.22435842  0.29270721  0.34948413  0.38187785  0.38187785  0.34948413\n",
      "   0.29270721  0.22435842  0.15738172  0.10103439  0.05935907  0.03191596\n",
      "   0.01570478  0.00707227]\n",
      " [ 0.00554912  0.01232245  0.02504223  0.04657493  0.07927464  0.12348647\n",
      "   0.17603842  0.22966695  0.27421584  0.29963294  0.29963294  0.27421584\n",
      "   0.22966695  0.17603842  0.12348647  0.07927464  0.04657493  0.02504223\n",
      "   0.01232245  0.00554912]\n",
      " [ 0.00385294  0.0085559   0.01738768  0.03233857  0.0550431   0.08574088\n",
      "   0.12222949  0.15946562  0.19039744  0.2080454   0.2080454   0.19039744\n",
      "   0.15946562  0.12222949  0.08574088  0.0550431   0.03233857  0.01738768\n",
      "   0.0085559   0.00385294]\n",
      " [ 0.00239035  0.00530804  0.01078724  0.02006271  0.0341485   0.05319327\n",
      "   0.07583065  0.09893179  0.11812175  0.12907047  0.12907047  0.11812175\n",
      "   0.09893179  0.07583065  0.05319327  0.0341485   0.02006271  0.01078724\n",
      "   0.00530804  0.00239035]\n",
      " [ 0.00133304  0.00296016  0.00601578  0.01118848  0.01904378  0.02966458\n",
      "   0.04228889  0.05517183  0.0658736   0.07197943  0.07197943  0.0658736\n",
      "   0.05517183  0.04228889  0.02966458  0.01904378  0.01118848  0.00601578\n",
      "   0.00296016  0.00133304]\n",
      " [ 0.00067093  0.00148987  0.00302777  0.00563122  0.00958484  0.01493034\n",
      "   0.02128422  0.02776827  0.03315453  0.03622763  0.03622763  0.03315453\n",
      "   0.02776827  0.02128422  0.01493034  0.00958484  0.00563122  0.00302777\n",
      "   0.00148987  0.00067093]]\n",
      "Traceback (most recent call last):\n",
      "  File \"E:\\Anaconda\\lib\\site-packages\\traits\\trait_notifiers.py\", line 359, in __call__\n",
      "    self.handler( *args )\n",
      "  File \"E:\\Anaconda\\lib\\site-packages\\mayavi\\sources\\array_source.py\", line 195, in _scalar_data_changed\n",
      "    self.change_information_filter.set_update_extent(update_extent)\n",
      "AttributeError: 'ImageChangeInformation' object has no attribute 'set_update_extent'\n"
     ]
    },
    {
     "name": "stdout",
     "output_type": "stream",
     "text": [
      "Exception occurred in traits notification handler.\n",
      "Please check the log file for details.\n"
     ]
    },
    {
     "name": "stderr",
     "output_type": "stream",
     "text": [
      "Cannot contour: No scalars in input data!\n"
     ]
    }
   ],
   "source": [
    "x,y=np.ogrid[-2:2:20j,-2:2:20j]\n",
    "z = x*np.exp(-x**2-y**2)\n",
    "face = mlab.surf(x,y,z,warp_scale=2)\n",
    "axes =mlab.axes(xlabel='x',ylabel='y',zlabel='z',color=(0,0,0))\n",
    "outline=mlab.outline(face,color=(0,0,0))\n",
    "mlab.show()"
   ]
  },
  {
   "cell_type": "code",
   "execution_count": 3,
   "metadata": {
    "collapsed": true
   },
   "outputs": [
    {
     "name": "stderr",
     "output_type": "stream",
     "text": [
      "E:\\Anaconda\\lib\\site-packages\\tvtk\\array_handler.py:268: FutureWarning: Conversion of the second argument of issubdtype from `complex` to `np.complexfloating` is deprecated. In future, it will be treated as `np.complex128 == np.dtype(complex).type`.\n",
      "  assert not numpy.issubdtype(z.dtype, complex), \\\n",
      "Exception occurred in traits notification handler for object: <mayavi.sources.array_source.ArraySource object at 0x00000069BAEBC570>, trait: scalar_data, old value: None, new value: [[-0.54402111 -0.36649812 -0.1783842  ... -0.1783842  -0.36649812\n",
      "  -0.54402111]\n",
      " [-0.36649812 -0.17436697  0.02063406 ...  0.02063406 -0.17436697\n",
      "  -0.36649812]\n",
      " [-0.1783842   0.02063406  0.21484576 ...  0.21484576  0.02063406\n",
      "  -0.1783842 ]\n",
      " ...\n",
      " [-0.1783842   0.02063406  0.21484576 ...  0.21484576  0.02063406\n",
      "  -0.1783842 ]\n",
      " [-0.36649812 -0.17436697  0.02063406 ...  0.02063406 -0.17436697\n",
      "  -0.36649812]\n",
      " [-0.54402111 -0.36649812 -0.1783842  ... -0.1783842  -0.36649812\n",
      "  -0.54402111]]\n",
      "Traceback (most recent call last):\n",
      "  File \"E:\\Anaconda\\lib\\site-packages\\traits\\trait_notifiers.py\", line 359, in __call__\n",
      "    self.handler( *args )\n",
      "  File \"E:\\Anaconda\\lib\\site-packages\\mayavi\\sources\\array_source.py\", line 195, in _scalar_data_changed\n",
      "    self.change_information_filter.set_update_extent(update_extent)\n",
      "AttributeError: 'ImageChangeInformation' object has no attribute 'set_update_extent'\n"
     ]
    },
    {
     "name": "stdout",
     "output_type": "stream",
     "text": [
      "Exception occurred in traits notification handler.\n",
      "Please check the log file for details.\n"
     ]
    },
    {
     "data": {
      "text/plain": [
       "<mayavi.modules.axes.Axes at 0x69bcb82728>"
      ]
     },
     "execution_count": 3,
     "metadata": {},
     "output_type": "execute_result"
    }
   ],
   "source": [
    "x,y=np.ogrid[-10:10:100j,-1:1:100j]\n",
    "z = np.sin(5*((x/10)**2+y**2))\n",
    "mlab.surf(x,y,z,extent=(-1,1,-1,1,-0.5,0.5))\n",
    "mlab.axes(ranges=(x.min(),x.max(),y.min(),y.max(),z.min(),z.max()),nb_labels=5)"
   ]
  },
  {
   "cell_type": "code",
   "execution_count": 3,
   "metadata": {
    "collapsed": true
   },
   "outputs": [
    {
     "name": "stderr",
     "output_type": "stream",
     "text": [
      "E:\\Anaconda\\lib\\site-packages\\tvtk\\array_handler.py:268: FutureWarning: Conversion of the second argument of issubdtype from `complex` to `np.complexfloating` is deprecated. In future, it will be treated as `np.complex128 == np.dtype(complex).type`.\n",
      "  assert not numpy.issubdtype(z.dtype, complex), \\\n"
     ]
    },
    {
     "ename": "ValueError",
     "evalue": "wrong number of arguments",
     "output_type": "error",
     "traceback": [
      "\u001b[1;31m---------------------------------------------------------------------------\u001b[0m",
      "\u001b[1;31mValueError\u001b[0m                                Traceback (most recent call last)",
      "\u001b[1;32m<ipython-input-3-ca5956957847>\u001b[0m in \u001b[0;36m<module>\u001b[1;34m()\u001b[0m\n\u001b[0;32m      2\u001b[0m \u001b[0mz\u001b[0m \u001b[1;33m=\u001b[0m \u001b[0mx\u001b[0m\u001b[1;33m*\u001b[0m\u001b[0mnp\u001b[0m\u001b[1;33m.\u001b[0m\u001b[0mexp\u001b[0m\u001b[1;33m(\u001b[0m\u001b[1;33m-\u001b[0m\u001b[0mx\u001b[0m\u001b[1;33m**\u001b[0m\u001b[1;36m2\u001b[0m\u001b[1;33m-\u001b[0m\u001b[0my\u001b[0m\u001b[1;33m**\u001b[0m\u001b[1;36m2\u001b[0m\u001b[1;33m)\u001b[0m\u001b[1;33m\u001b[0m\u001b[0m\n\u001b[0;32m      3\u001b[0m \u001b[0mc\u001b[0m\u001b[1;33m=\u001b[0m\u001b[1;36m2\u001b[0m\u001b[1;33m*\u001b[0m\u001b[0mx\u001b[0m\u001b[1;33m+\u001b[0m\u001b[0my\u001b[0m\u001b[1;33m\u001b[0m\u001b[0m\n\u001b[1;32m----> 4\u001b[1;33m \u001b[0mmlab\u001b[0m\u001b[1;33m.\u001b[0m\u001b[0mimshow\u001b[0m\u001b[1;33m(\u001b[0m\u001b[0mx\u001b[0m\u001b[1;33m,\u001b[0m\u001b[0my\u001b[0m\u001b[1;33m,\u001b[0m\u001b[0mz\u001b[0m\u001b[1;33m,\u001b[0m\u001b[0mc\u001b[0m\u001b[1;33m)\u001b[0m\u001b[1;33m\u001b[0m\u001b[0m\n\u001b[0m\u001b[0;32m      5\u001b[0m \u001b[1;31m# mlab.show()\u001b[0m\u001b[1;33m\u001b[0m\u001b[1;33m\u001b[0m\u001b[0m\n\u001b[0;32m      6\u001b[0m \u001b[1;31m# mlab.contour_surf(x,y,z,warp_scale=2,contours=20)\u001b[0m\u001b[1;33m\u001b[0m\u001b[1;33m\u001b[0m\u001b[0m\n",
      "\u001b[1;32mE:\\Anaconda\\lib\\site-packages\\mayavi\\tools\\helper_functions.py\u001b[0m in \u001b[0;36mthe_function\u001b[1;34m(*args, **kwargs)\u001b[0m\n\u001b[0;32m     35\u001b[0m \u001b[1;33m\u001b[0m\u001b[0m\n\u001b[0;32m     36\u001b[0m     \u001b[1;32mdef\u001b[0m \u001b[0mthe_function\u001b[0m\u001b[1;33m(\u001b[0m\u001b[1;33m*\u001b[0m\u001b[0margs\u001b[0m\u001b[1;33m,\u001b[0m \u001b[1;33m**\u001b[0m\u001b[0mkwargs\u001b[0m\u001b[1;33m)\u001b[0m\u001b[1;33m:\u001b[0m\u001b[1;33m\u001b[0m\u001b[0m\n\u001b[1;32m---> 37\u001b[1;33m         \u001b[1;32mreturn\u001b[0m \u001b[0mpipeline\u001b[0m\u001b[1;33m(\u001b[0m\u001b[1;33m*\u001b[0m\u001b[0margs\u001b[0m\u001b[1;33m,\u001b[0m \u001b[1;33m**\u001b[0m\u001b[0mkwargs\u001b[0m\u001b[1;33m)\u001b[0m\u001b[1;33m\u001b[0m\u001b[0m\n\u001b[0m\u001b[0;32m     38\u001b[0m \u001b[1;33m\u001b[0m\u001b[0m\n\u001b[0;32m     39\u001b[0m     \u001b[1;32mif\u001b[0m \u001b[0mhasattr\u001b[0m\u001b[1;33m(\u001b[0m\u001b[0mpipeline\u001b[0m\u001b[1;33m,\u001b[0m \u001b[1;34m'doc'\u001b[0m\u001b[1;33m)\u001b[0m\u001b[1;33m:\u001b[0m\u001b[1;33m\u001b[0m\u001b[0m\n",
      "\u001b[1;32mE:\\Anaconda\\lib\\site-packages\\mayavi\\tools\\helper_functions.py\u001b[0m in \u001b[0;36m__call__\u001b[1;34m(self, *args, **kwargs)\u001b[0m\n\u001b[0;32m     80\u001b[0m             \u001b[0mscene\u001b[0m\u001b[1;33m.\u001b[0m\u001b[0mdisable_render\u001b[0m \u001b[1;33m=\u001b[0m \u001b[1;32mTrue\u001b[0m\u001b[1;33m\u001b[0m\u001b[0m\n\u001b[0;32m     81\u001b[0m         \u001b[1;31m# Then call the real logic\u001b[0m\u001b[1;33m\u001b[0m\u001b[1;33m\u001b[0m\u001b[0m\n\u001b[1;32m---> 82\u001b[1;33m         \u001b[0moutput\u001b[0m \u001b[1;33m=\u001b[0m \u001b[0mself\u001b[0m\u001b[1;33m.\u001b[0m\u001b[0m__call_internal__\u001b[0m\u001b[1;33m(\u001b[0m\u001b[1;33m*\u001b[0m\u001b[0margs\u001b[0m\u001b[1;33m,\u001b[0m \u001b[1;33m**\u001b[0m\u001b[0mkwargs\u001b[0m\u001b[1;33m)\u001b[0m\u001b[1;33m\u001b[0m\u001b[0m\n\u001b[0m\u001b[0;32m     83\u001b[0m         \u001b[1;31m# And re-enable the rendering, if needed.\u001b[0m\u001b[1;33m\u001b[0m\u001b[1;33m\u001b[0m\u001b[0m\n\u001b[0;32m     84\u001b[0m         \u001b[1;32mif\u001b[0m \u001b[0mscene\u001b[0m \u001b[1;32mis\u001b[0m \u001b[1;32mnot\u001b[0m \u001b[1;32mNone\u001b[0m\u001b[1;33m:\u001b[0m\u001b[1;33m\u001b[0m\u001b[0m\n",
      "\u001b[1;32mE:\\Anaconda\\lib\\site-packages\\mayavi\\tools\\helper_functions.py\u001b[0m in \u001b[0;36m__call_internal__\u001b[1;34m(self, *args, **kwargs)\u001b[0m\n\u001b[0;32m     90\u001b[0m         the last object created by the pipeline.\"\"\"\n\u001b[0;32m     91\u001b[0m         \u001b[0mself\u001b[0m\u001b[1;33m.\u001b[0m\u001b[0mstore_kwargs\u001b[0m\u001b[1;33m(\u001b[0m\u001b[0mkwargs\u001b[0m\u001b[1;33m)\u001b[0m\u001b[1;33m\u001b[0m\u001b[0m\n\u001b[1;32m---> 92\u001b[1;33m         \u001b[0mself\u001b[0m\u001b[1;33m.\u001b[0m\u001b[0msource\u001b[0m \u001b[1;33m=\u001b[0m \u001b[0mself\u001b[0m\u001b[1;33m.\u001b[0m\u001b[0m_source_function\u001b[0m\u001b[1;33m(\u001b[0m\u001b[1;33m*\u001b[0m\u001b[0margs\u001b[0m\u001b[1;33m,\u001b[0m \u001b[1;33m**\u001b[0m\u001b[0mkwargs\u001b[0m\u001b[1;33m)\u001b[0m\u001b[1;33m\u001b[0m\u001b[0m\n\u001b[0m\u001b[0;32m     93\u001b[0m         \u001b[1;31m# Copy the pipeline so as not to modify it for the next call\u001b[0m\u001b[1;33m\u001b[0m\u001b[1;33m\u001b[0m\u001b[0m\n\u001b[0;32m     94\u001b[0m         \u001b[0mself\u001b[0m\u001b[1;33m.\u001b[0m\u001b[0mpipeline\u001b[0m \u001b[1;33m=\u001b[0m \u001b[0mself\u001b[0m\u001b[1;33m.\u001b[0m\u001b[0m_pipeline\u001b[0m\u001b[1;33m[\u001b[0m\u001b[1;33m:\u001b[0m\u001b[1;33m]\u001b[0m\u001b[1;33m\u001b[0m\u001b[0m\n",
      "\u001b[1;32mE:\\Anaconda\\lib\\site-packages\\mayavi\\tools\\sources.py\u001b[0m in \u001b[0;36marray2d_source\u001b[1;34m(*args, **kwargs)\u001b[0m\n\u001b[0;32m   1243\u001b[0m         \u001b[0mdata_source\u001b[0m\u001b[1;33m.\u001b[0m\u001b[0mreset\u001b[0m\u001b[1;33m(\u001b[0m\u001b[0mscalars\u001b[0m\u001b[1;33m=\u001b[0m\u001b[0ms\u001b[0m\u001b[1;33m,\u001b[0m \u001b[0mmask\u001b[0m\u001b[1;33m=\u001b[0m\u001b[0mmask\u001b[0m\u001b[1;33m)\u001b[0m\u001b[1;33m\u001b[0m\u001b[0m\n\u001b[0;32m   1244\u001b[0m     \u001b[1;32melse\u001b[0m\u001b[1;33m:\u001b[0m\u001b[1;33m\u001b[0m\u001b[0m\n\u001b[1;32m-> 1245\u001b[1;33m         \u001b[0mx\u001b[0m\u001b[1;33m,\u001b[0m \u001b[0my\u001b[0m\u001b[1;33m,\u001b[0m \u001b[0ms\u001b[0m \u001b[1;33m=\u001b[0m \u001b[0mprocess_regular_2d_scalars\u001b[0m\u001b[1;33m(\u001b[0m\u001b[1;33m*\u001b[0m\u001b[0margs\u001b[0m\u001b[1;33m,\u001b[0m \u001b[1;33m**\u001b[0m\u001b[0mkwargs\u001b[0m\u001b[1;33m)\u001b[0m\u001b[1;33m\u001b[0m\u001b[0m\n\u001b[0m\u001b[0;32m   1246\u001b[0m         \u001b[0mdata_source\u001b[0m\u001b[1;33m.\u001b[0m\u001b[0mreset\u001b[0m\u001b[1;33m(\u001b[0m\u001b[0mx\u001b[0m\u001b[1;33m=\u001b[0m\u001b[0mx\u001b[0m\u001b[1;33m,\u001b[0m \u001b[0my\u001b[0m\u001b[1;33m=\u001b[0m\u001b[0my\u001b[0m\u001b[1;33m,\u001b[0m \u001b[0mscalars\u001b[0m\u001b[1;33m=\u001b[0m\u001b[0ms\u001b[0m\u001b[1;33m,\u001b[0m \u001b[0mmask\u001b[0m\u001b[1;33m=\u001b[0m\u001b[0mmask\u001b[0m\u001b[1;33m)\u001b[0m\u001b[1;33m\u001b[0m\u001b[0m\n\u001b[0;32m   1247\u001b[0m \u001b[1;33m\u001b[0m\u001b[0m\n",
      "\u001b[1;32mE:\\Anaconda\\lib\\site-packages\\mayavi\\tools\\sources.py\u001b[0m in \u001b[0;36mprocess_regular_2d_scalars\u001b[1;34m(*args, **kwargs)\u001b[0m\n\u001b[0;32m    967\u001b[0m             \u001b[0ms\u001b[0m \u001b[1;33m=\u001b[0m \u001b[0ms\u001b[0m\u001b[1;33m(\u001b[0m\u001b[0mx\u001b[0m\u001b[1;33m,\u001b[0m \u001b[0my\u001b[0m\u001b[1;33m)\u001b[0m\u001b[1;33m\u001b[0m\u001b[0m\n\u001b[0;32m    968\u001b[0m     \u001b[1;32melse\u001b[0m\u001b[1;33m:\u001b[0m\u001b[1;33m\u001b[0m\u001b[0m\n\u001b[1;32m--> 969\u001b[1;33m         \u001b[1;32mraise\u001b[0m \u001b[0mValueError\u001b[0m\u001b[1;33m(\u001b[0m\u001b[1;34m\"wrong number of arguments\"\u001b[0m\u001b[1;33m)\u001b[0m\u001b[1;33m\u001b[0m\u001b[0m\n\u001b[0m\u001b[0;32m    970\u001b[0m     \u001b[1;32massert\u001b[0m \u001b[0mlen\u001b[0m\u001b[1;33m(\u001b[0m\u001b[0ms\u001b[0m\u001b[1;33m.\u001b[0m\u001b[0mshape\u001b[0m\u001b[1;33m)\u001b[0m \u001b[1;33m==\u001b[0m \u001b[1;36m2\u001b[0m\u001b[1;33m,\u001b[0m \u001b[1;34m\"2D array required\"\u001b[0m\u001b[1;33m\u001b[0m\u001b[0m\n\u001b[0;32m    971\u001b[0m \u001b[1;33m\u001b[0m\u001b[0m\n",
      "\u001b[1;31mValueError\u001b[0m: wrong number of arguments"
     ]
    }
   ],
   "source": [
    "x,y=np.ogrid[-2:2:20j,-2:2:20j]\n",
    "z = x*np.exp(-x**2-y**2)\n",
    "# mlab.imshow(x,y,z)\n",
    "# mlab.show()\n",
    "mlab.contour_surf(x,y,z,warp_scale=2,contours=20)\n",
    "mlab.show()"
   ]
  },
  {
   "cell_type": "code",
   "execution_count": 16,
   "metadata": {},
   "outputs": [
    {
     "name": "stderr",
     "output_type": "stream",
     "text": [
      "E:\\Anaconda\\lib\\site-packages\\tvtk\\array_handler.py:268: FutureWarning: Conversion of the second argument of issubdtype from `complex` to `np.complexfloating` is deprecated. In future, it will be treated as `np.complex128 == np.dtype(complex).type`.\n",
      "  assert not numpy.issubdtype(z.dtype, complex), \\\n"
     ]
    }
   ],
   "source": [
    "dphi,dtheta = np.pi/80.0,np.pi/80.0\n",
    "phi,theta=np.mgrid[0:np.pi+dphi*1.5:dphi,0:2*np.pi+dtheta*1.5:dtheta]\n",
    "m0,m1,m2,m3,m4,m5,m6,m7=4,3,2,3,6,2,6,4\n",
    "r=np.sin(m0*phi)**m1+np.cos(m2*phi)**m3+np.sin(m4*theta)**m5+np.cos(m6*theta)**m7\n",
    "x=r*np.sin(phi)*np.cos(theta)\n",
    "y=r*np.cos(phi)\n",
    "z=r*np.sin(phi)*np.sin(theta)\n",
    "s=mlab.mesh(x,y,z)\n",
    "mlab.show()"
   ]
  },
  {
   "cell_type": "code",
   "execution_count": 17,
   "metadata": {},
   "outputs": [
    {
     "name": "stderr",
     "output_type": "stream",
     "text": [
      "E:\\Anaconda\\lib\\site-packages\\tvtk\\array_handler.py:268: FutureWarning: Conversion of the second argument of issubdtype from `complex` to `np.complexfloating` is deprecated. In future, it will be treated as `np.complex128 == np.dtype(complex).type`.\n",
      "  assert not numpy.issubdtype(z.dtype, complex), \\\n"
     ]
    }
   ],
   "source": [
    "rho,theta=np.mgrid[0:1:40j,0:2*np.pi:40j]\n",
    "z=rho*rho\n",
    "x=rho*np.cos(theta)\n",
    "y=rho*np.sin(theta)\n",
    "s=mlab.mesh(x,y,z)\n",
    "mlab.show()"
   ]
  },
  {
   "cell_type": "code",
   "execution_count": 18,
   "metadata": {},
   "outputs": [
    {
     "name": "stderr",
     "output_type": "stream",
     "text": [
      "E:\\Anaconda\\lib\\site-packages\\tvtk\\array_handler.py:268: FutureWarning: Conversion of the second argument of issubdtype from `complex` to `np.complexfloating` is deprecated. In future, it will be treated as `np.complex128 == np.dtype(complex).type`.\n",
      "  assert not numpy.issubdtype(z.dtype, complex), \\\n"
     ]
    }
   ],
   "source": [
    "x,y=np.mgrid[-2:2:20j,-2:2:20j]\n",
    "z = x*np.exp(-x**2-y**2)\n",
    "z*=2\n",
    "c=2*x+y\n",
    "pl = mlab.mesh(x,y,z,scalars=c)\n",
    "mlab.axes(xlabel='x',ylabel='y',zlabel='z')\n",
    "mlab.outline(pl)\n",
    "mlab.show()"
   ]
  }
 ],
 "metadata": {
  "kernelspec": {
   "display_name": "Python 3",
   "language": "python",
   "name": "python3"
  },
  "language_info": {
   "codemirror_mode": {
    "name": "ipython",
    "version": 3
   },
   "file_extension": ".py",
   "mimetype": "text/x-python",
   "name": "python",
   "nbconvert_exporter": "python",
   "pygments_lexer": "ipython3",
   "version": "3.6.4"
  },
  "nbTranslate": {
   "displayLangs": [
    "*"
   ],
   "hotkey": "alt-t",
   "langInMainMenu": true,
   "sourceLang": "en",
   "targetLang": "fr",
   "useGoogleTranslate": true
  },
  "toc": {
   "nav_menu": {},
   "number_sections": true,
   "sideBar": true,
   "skip_h1_title": false,
   "title_cell": "Table of Contents",
   "title_sidebar": "Contents",
   "toc_cell": false,
   "toc_position": {},
   "toc_section_display": true,
   "toc_window_display": false
  },
  "varInspector": {
   "cols": {
    "lenName": 16,
    "lenType": 16,
    "lenVar": 40
   },
   "kernels_config": {
    "python": {
     "delete_cmd_postfix": "",
     "delete_cmd_prefix": "del ",
     "library": "var_list.py",
     "varRefreshCmd": "print(var_dic_list())"
    },
    "r": {
     "delete_cmd_postfix": ") ",
     "delete_cmd_prefix": "rm(",
     "library": "var_list.r",
     "varRefreshCmd": "cat(var_dic_list()) "
    }
   },
   "types_to_exclude": [
    "module",
    "function",
    "builtin_function_or_method",
    "instance",
    "_Feature"
   ],
   "window_display": false
  }
 },
 "nbformat": 4,
 "nbformat_minor": 2
}
